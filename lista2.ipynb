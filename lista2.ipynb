{
 "cells": [
  {
   "cell_type": "markdown",
   "metadata": {},
   "source": [
    "# Questão 1"
   ]
  },
  {
   "cell_type": "markdown",
   "metadata": {},
   "source": [
    "### a)\n"
   ]
  },
  {
   "cell_type": "code",
   "execution_count": 62,
   "metadata": {},
   "outputs": [
    {
     "data": {
      "text/latex": [
       "$\\displaystyle \\frac{T \\sqrt{- T^{2} g^{2} + 4 c^{2}}}{4 c} + \\frac{c \\operatorname{asin}{\\left(\\frac{T g}{2 c} \\right)}}{g}$"
      ],
      "text/plain": [
       "T*sqrt(-T**2*g**2 + 4*c**2)/(4*c) + c*asin(T*g/(2*c))/g"
      ]
     },
     "metadata": {},
     "output_type": "display_data"
    },
    {
     "name": "stdout",
     "output_type": "stream",
     "text": [
      "Limiting case c->infinity\n"
     ]
    },
    {
     "data": {
      "text/latex": [
       "$\\displaystyle T$"
      ],
      "text/plain": [
       "T"
      ]
     },
     "metadata": {},
     "output_type": "display_data"
    }
   ],
   "source": [
    "import sympy as sp\n",
    "from IPython.display import display\n",
    "g,T,t,c=sp.symbols('g T t c',positive=True)\n",
    "z=g*t*(T-t)/2\n",
    "velocity=sp.diff(z,t)\n",
    "integral=sp.sqrt(1-(velocity/c)**2)\n",
    "final_result = sp.integrate(integral, (t, 0, T)).simplify()\n",
    "display(final_result)\n",
    "print(\"Limiting case c->infinity\")\n",
    "display(sp.limit(final_result,c,sp.oo))\n",
    "\n"
   ]
  },
  {
   "cell_type": "markdown",
   "metadata": {},
   "source": [
    "### b)"
   ]
  },
  {
   "cell_type": "code",
   "execution_count": 58,
   "metadata": {},
   "outputs": [
    {
     "data": {
      "text/latex": [
       "$\\displaystyle 0$"
      ],
      "text/plain": [
       "0"
      ]
     },
     "execution_count": 58,
     "metadata": {},
     "output_type": "execute_result"
    }
   ],
   "source": [
    "previous_answer=c/g*(sp.asin(g*T/(2*c))+sp.sin(2*sp.asin(g*T/(2*c))/2))\n",
    "time_difference=previous_answer - T\n",
    "sp.series(time_difference, g*T/(2*c), x0=0,n=2).removeO()"
   ]
  }
 ],
 "metadata": {
  "kernelspec": {
   "display_name": ".venv",
   "language": "python",
   "name": "python3"
  },
  "language_info": {
   "codemirror_mode": {
    "name": "ipython",
    "version": 3
   },
   "file_extension": ".py",
   "mimetype": "text/x-python",
   "name": "python",
   "nbconvert_exporter": "python",
   "pygments_lexer": "ipython3",
   "version": "3.11.10"
  }
 },
 "nbformat": 4,
 "nbformat_minor": 2
}
