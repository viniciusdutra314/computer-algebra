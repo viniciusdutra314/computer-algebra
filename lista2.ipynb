{
 "cells": [
  {
   "cell_type": "markdown",
   "metadata": {},
   "source": [
    "# Questão 1"
   ]
  },
  {
   "cell_type": "markdown",
   "metadata": {},
   "source": [
    "### a)\n"
   ]
  },
  {
   "cell_type": "code",
   "execution_count": 1,
   "metadata": {},
   "outputs": [
    {
     "data": {
      "text/latex": [
       "$\\displaystyle \\frac{T \\sqrt{- T^{2} g^{2} + 4 c^{2}}}{4 c} + \\frac{c \\operatorname{asin}{\\left(\\frac{T g}{2 c} \\right)}}{g}$"
      ],
      "text/plain": [
       "T*sqrt(-T**2*g**2 + 4*c**2)/(4*c) + c*asin(T*g/(2*c))/g"
      ]
     },
     "metadata": {},
     "output_type": "display_data"
    },
    {
     "name": "stdout",
     "output_type": "stream",
     "text": [
      "Limiting case c->infinity\n"
     ]
    },
    {
     "data": {
      "text/latex": [
       "$\\displaystyle T$"
      ],
      "text/plain": [
       "T"
      ]
     },
     "metadata": {},
     "output_type": "display_data"
    }
   ],
   "source": [
    "import sympy as sp\n",
    "from IPython.display import display,Latex\n",
    "g,T,t,c=sp.symbols('g T t c',positive=True)\n",
    "z=g*t*(T-t)/2\n",
    "velocity=sp.diff(z,t)\n",
    "integral=sp.sqrt(1-(velocity/c)**2)\n",
    "final_result = sp.integrate(integral, (t, 0, T)).simplify()\n",
    "display(final_result)\n",
    "print(\"Limiting case c->infinity\")\n",
    "display(sp.limit(final_result,c,sp.oo))\n",
    "\n"
   ]
  },
  {
   "cell_type": "markdown",
   "metadata": {},
   "source": [
    "### b)"
   ]
  },
  {
   "cell_type": "code",
   "execution_count": 2,
   "metadata": {},
   "outputs": [
    {
     "data": {
      "text/latex": [
       "$\\displaystyle \\frac{T^{3} g^{2}}{48 c^{2}} + \\frac{3 T^{5} g^{4}}{1280 c^{4}} + O\\left(\\frac{T^{7} g^{7}}{c^{7}}; \\left( T, \\  c, \\  g\\right)\\rightarrow \\left( 0, \\  0, \\  0\\right)\\right)$"
      ],
      "text/plain": [
       "T**3*g**2/(48*c**2) + 3*T**5*g**4/(1280*c**4) + O(T**7*g**7/c**7, T, c, g)"
      ]
     },
     "execution_count": 2,
     "metadata": {},
     "output_type": "execute_result"
    }
   ],
   "source": [
    "previous_answer=c/g*(sp.asin(g*T/(2*c))+sp.sin(2*sp.asin(g*T/(2*c))/2))\n",
    "time_difference=previous_answer - T\n",
    "sp.series(time_difference, g*T/(2*c), x0=0,n=7)"
   ]
  },
  {
   "cell_type": "markdown",
   "metadata": {},
   "source": [
    "# Questão 4"
   ]
  },
  {
   "cell_type": "code",
   "execution_count": 72,
   "metadata": {},
   "outputs": [],
   "source": [
    "from sympy import symbols, sinh, cosh, diff,asinh\n",
    "from sympy.diffgeom import Manifold, Patch, CoordSystem,Point\n",
    "\n",
    "\n",
    "kappa = symbols('kappa', real=True, positive=True)\n",
    "tau, zeta, ct, x, y, z = symbols('tau zeta ct x y z')\n",
    "\n",
    "\n",
    "x_cartesian=[ct,x,y,z]\n",
    "x_abstract=[tau,x,y,zeta]\n",
    "\n",
    "M = Manifold('M', 4)\n",
    "\n",
    "patch = Patch('P', M)\n",
    "\n",
    "relation_dict = {\n",
    "                 (\"cartesian\",\"abstract_coords\"):\n",
    "                    [(ct,x,y,z),(asinh(ct/sp.sqrt(z**2-(ct)**2))/kappa,\n",
    "                    x,y,sp.sqrt(z**2-(ct)**2))],\n",
    "                 (\"abstract_coords\",\"cartesian\"):\n",
    "                 [(tau,x,y,zeta),[(zeta*sinh(kappa*tau),x,y,zeta*cosh(kappa*tau))]]\n",
    "                    \n",
    "                    }\n",
    "                 \n",
    "cartesian = CoordSystem('cartesian', patch, [ct, x, y, z],relation_dict)\n",
    "abstract_coords = CoordSystem('abstract_coords', patch, [tau, x, y, zeta],relation_dict)\n"
   ]
  },
  {
   "cell_type": "markdown",
   "metadata": {},
   "source": [
    "### a)"
   ]
  },
  {
   "cell_type": "code",
   "execution_count": null,
   "metadata": {},
   "outputs": [
    {
     "data": {
      "text/latex": [
       "$$\\partial_\\tau"
      ],
      "text/plain": [
       "<IPython.core.display.Latex object>"
      ]
     },
     "metadata": {},
     "output_type": "display_data"
    },
    {
     "data": {
      "text/latex": [
       "$\\displaystyle \\left[\\begin{matrix}\\kappa \\zeta \\cosh{\\left(\\kappa \\tau \\right)}\\\\0\\\\0\\\\\\kappa \\zeta \\sinh{\\left(\\kappa \\tau \\right)}\\end{matrix}\\right]$"
      ],
      "text/plain": [
       "Matrix([\n",
       "[kappa*zeta*cosh(kappa*tau)],\n",
       "[                         0],\n",
       "[                         0],\n",
       "[kappa*zeta*sinh(kappa*tau)]])"
      ]
     },
     "metadata": {},
     "output_type": "display_data"
    },
    {
     "data": {
      "text/latex": [
       "$$\\partial_\\zeta"
      ],
      "text/plain": [
       "<IPython.core.display.Latex object>"
      ]
     },
     "metadata": {},
     "output_type": "display_data"
    },
    {
     "data": {
      "text/latex": [
       "$\\displaystyle \\left[\\begin{matrix}\\sinh{\\left(\\kappa \\tau \\right)}\\\\0\\\\0\\\\\\cosh{\\left(\\kappa \\tau \\right)}\\end{matrix}\\right]$"
      ],
      "text/plain": [
       "Matrix([\n",
       "[sinh(kappa*tau)],\n",
       "[              0],\n",
       "[              0],\n",
       "[cosh(kappa*tau)]])"
      ]
     },
     "metadata": {},
     "output_type": "display_data"
    },
    {
     "data": {
      "text/latex": [
       "$$\\partial_t"
      ],
      "text/plain": [
       "<IPython.core.display.Latex object>"
      ]
     },
     "metadata": {},
     "output_type": "display_data"
    },
    {
     "data": {
      "text/latex": [
       "$\\displaystyle \\left[\\begin{matrix}c\\\\0\\\\0\\\\0\\end{matrix}\\right]$"
      ],
      "text/plain": [
       "Matrix([\n",
       "[c],\n",
       "[0],\n",
       "[0],\n",
       "[0]])"
      ]
     },
     "metadata": {},
     "output_type": "display_data"
    },
    {
     "data": {
      "text/latex": [
       "$$\\partial_x"
      ],
      "text/plain": [
       "<IPython.core.display.Latex object>"
      ]
     },
     "metadata": {},
     "output_type": "display_data"
    },
    {
     "data": {
      "text/latex": [
       "$\\displaystyle \\left[\\begin{matrix}0\\\\1\\\\0\\\\0\\end{matrix}\\right]$"
      ],
      "text/plain": [
       "Matrix([\n",
       "[0],\n",
       "[1],\n",
       "[0],\n",
       "[0]])"
      ]
     },
     "metadata": {},
     "output_type": "display_data"
    },
    {
     "data": {
      "text/latex": [
       "$$\\partial_y"
      ],
      "text/plain": [
       "<IPython.core.display.Latex object>"
      ]
     },
     "metadata": {},
     "output_type": "display_data"
    },
    {
     "data": {
      "text/latex": [
       "$\\displaystyle \\left[\\begin{matrix}0\\\\0\\\\1\\\\0\\end{matrix}\\right]$"
      ],
      "text/plain": [
       "Matrix([\n",
       "[0],\n",
       "[0],\n",
       "[1],\n",
       "[0]])"
      ]
     },
     "metadata": {},
     "output_type": "display_data"
    },
    {
     "data": {
      "text/latex": [
       "$$\\partial_z"
      ],
      "text/plain": [
       "<IPython.core.display.Latex object>"
      ]
     },
     "metadata": {},
     "output_type": "display_data"
    },
    {
     "data": {
      "text/latex": [
       "$\\displaystyle \\left[\\begin{matrix}0\\\\0\\\\0\\\\1\\end{matrix}\\right]$"
      ],
      "text/plain": [
       "Matrix([\n",
       "[0],\n",
       "[0],\n",
       "[0],\n",
       "[1]])"
      ]
     },
     "metadata": {},
     "output_type": "display_data"
    }
   ],
   "source": [
    "point_configuration_space=Point(abstract_coords,[tau,x,y,zeta])\n",
    "point_real_space=Point(cartesian,[ct,x,y,z])\n",
    "partial_tau=diff(point_configuration_space.coords(cartesian),tau).T\n",
    "partial_zeta=diff(point_configuration_space.coords(cartesian),zeta).T\n",
    "partial_x=diff(point_configuration_space.coords(cartesian),x).T\n",
    "partial_y=diff(point_configuration_space.coords(cartesian),y).T\n",
    "display(Latex(r\"$$\\partial_\\tau\"),partial_tau)\n",
    "display(Latex(r\"$$\\partial_\\zeta\"),partial_zeta)\n",
    "partial_t=c*diff(point_real_space.coords(),ct)\n",
    "partial_z=diff(point_real_space.coords(),z)\n",
    "display(Latex(r\"$$\\partial_t\"),partial_t)\n",
    "display(Latex(r\"$$\\partial_x\"),partial_x)\n",
    "display(Latex(r\"$$\\partial_y\"),partial_y)\n",
    "display(Latex(r\"$$\\partial_z\"),partial_z)"
   ]
  },
  {
   "cell_type": "markdown",
   "metadata": {},
   "source": [
    "### b)"
   ]
  },
  {
   "cell_type": "code",
   "execution_count": 68,
   "metadata": {},
   "outputs": [
    {
     "data": {
      "text/latex": [
       "$\\displaystyle \\left[\\begin{matrix}- \\kappa^{2} \\zeta^{2} & 0 & 0 & 0\\\\0 & 1 & 0 & 0\\\\0 & 0 & 1 & 0\\\\0 & 0 & 0 & 1\\end{matrix}\\right]$"
      ],
      "text/plain": [
       "Matrix([\n",
       "[-kappa**2*zeta**2, 0, 0, 0],\n",
       "[                0, 1, 0, 0],\n",
       "[                0, 0, 1, 0],\n",
       "[                0, 0, 0, 1]])"
      ]
     },
     "metadata": {},
     "output_type": "display_data"
    }
   ],
   "source": [
    "from sympy import Matrix\n",
    "\n",
    "eta = Matrix([\n",
    "    [-1, 0, 0, 0],\n",
    "    [0, 1, 0, 0],\n",
    "    [0, 0, 1, 0],\n",
    "    [0, 0, 0, 1]\n",
    "])\n",
    "\n",
    "basis_vectors=[partial_tau,partial_x,partial_y,partial_zeta]\n",
    "\n",
    "g_uv = Matrix(4, 4, lambda i, j: (basis_vectors[i].T * eta * basis_vectors[j])[0].simplify())\n",
    "display(g_uv)\n",
    "\n"
   ]
  },
  {
   "cell_type": "markdown",
   "metadata": {},
   "source": [
    "### c)"
   ]
  },
  {
   "cell_type": "code",
   "execution_count": null,
   "metadata": {},
   "outputs": [
    {
     "data": {
      "text/latex": [
       "$\\displaystyle 0$"
      ],
      "text/plain": [
       "0"
      ]
     },
     "execution_count": 80,
     "metadata": {},
     "output_type": "execute_result"
    }
   ],
   "source": [
    "\n",
    "x"
   ]
  }
 ],
 "metadata": {
  "kernelspec": {
   "display_name": ".venv",
   "language": "python",
   "name": "python3"
  },
  "language_info": {
   "codemirror_mode": {
    "name": "ipython",
    "version": 3
   },
   "file_extension": ".py",
   "mimetype": "text/x-python",
   "name": "python",
   "nbconvert_exporter": "python",
   "pygments_lexer": "ipython3",
   "version": "3.11.10"
  }
 },
 "nbformat": 4,
 "nbformat_minor": 2
}
