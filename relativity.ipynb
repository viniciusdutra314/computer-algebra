{
 "cells": [
  {
   "cell_type": "markdown",
   "metadata": {},
   "source": [
    "### Building the hyperbola equation\n"
   ]
  },
  {
   "cell_type": "code",
   "execution_count": 101,
   "metadata": {},
   "outputs": [
    {
     "data": {
      "text/latex": [
       "$\\displaystyle - c^{2} t^{2} + x^{2} = \\frac{c^{4}}{a_{0}^{2}}$"
      ],
      "text/plain": [
       "Eq(-c**2*t**2 + x**2, c**4/a_0**2)"
      ]
     },
     "metadata": {},
     "output_type": "display_data"
    }
   ],
   "source": [
    "import sympy as sp\n",
    "from IPython.display import display,Markdown,Latex\n",
    "t,x=sp.symbols(\"t x\",real=True)\n",
    "c,a_0=sp.symbols(\"c a_0\",positive=True)\n",
    "\n",
    "\n",
    "hyperbola=sp.Eq(-(c*t)**2 +x**2 ,(c**4)/a_0**2)\n",
    "display(hyperbola)\n"
   ]
  },
  {
   "cell_type": "markdown",
   "metadata": {},
   "source": [
    "### Calculating the velocity"
   ]
  },
  {
   "cell_type": "code",
   "execution_count": 102,
   "metadata": {},
   "outputs": [
    {
     "data": {
      "text/latex": [
       "$\\displaystyle v = \\frac{a_{0} c t}{\\sqrt{a_{0}^{2} t^{2} + c^{2}}}$"
      ],
      "text/plain": [
       "Eq(v, a_0*c*t/sqrt(a_0**2*t**2 + c**2))"
      ]
     },
     "execution_count": 102,
     "metadata": {},
     "output_type": "execute_result"
    }
   ],
   "source": [
    "dx_dt=sp.idiff(hyperbola.lhs -hyperbola.rhs,x,t)\n",
    "dx_dt=dx_dt.subs(x,sp.solve(hyperbola,x)[1])\n",
    "sp.Eq(sp.Symbol(\"v\"),dx_dt)\n"
   ]
  },
  {
   "cell_type": "markdown",
   "metadata": {},
   "source": [
    "### Checking the Newtonian limit"
   ]
  },
  {
   "cell_type": "code",
   "execution_count": 103,
   "metadata": {},
   "outputs": [
    {
     "data": {
      "text/markdown": [
       "For $\\frac{a_0}{c}<<1$ we can expand:"
      ],
      "text/plain": [
       "<IPython.core.display.Markdown object>"
      ]
     },
     "metadata": {},
     "output_type": "display_data"
    },
    {
     "data": {
      "text/latex": [
       "$\\displaystyle a_{0} t - \\frac{a_{0}^{3} t^{3}}{2 c^{2}} + \\frac{3 a_{0}^{5} t^{5}}{8 c^{4}} + O\\left(a_{0}^{7}\\right)$"
      ],
      "text/plain": [
       "a_0*t - a_0**3*t**3/(2*c**2) + 3*a_0**5*t**5/(8*c**4) + O(a_0**7)"
      ]
     },
     "metadata": {},
     "output_type": "display_data"
    },
    {
     "data": {
      "text/markdown": [
       "And for $c \\to \\infty$"
      ],
      "text/plain": [
       "<IPython.core.display.Markdown object>"
      ]
     },
     "metadata": {},
     "output_type": "display_data"
    },
    {
     "data": {
      "text/latex": [
       "$\\displaystyle a_{0} t$"
      ],
      "text/plain": [
       "a_0*t"
      ]
     },
     "execution_count": 103,
     "metadata": {},
     "output_type": "execute_result"
    }
   ],
   "source": [
    "display(Markdown(r\"For $\\frac{a_0}{c}<<1$ we can expand:\"))\n",
    "display(dx_dt.series(a_0,0,7))\n",
    "display(Markdown(r\"And for $c \\to \\infty$\"))\n",
    "sp.limit(dx_dt,c,sp.oo)"
   ]
  },
  {
   "cell_type": "markdown",
   "metadata": {},
   "source": [
    "### Calculating the proper time"
   ]
  },
  {
   "cell_type": "code",
   "execution_count": 130,
   "metadata": {},
   "outputs": [
    {
     "data": {
      "text/latex": [
       "$\\displaystyle \\tau = \\frac{2 c \\operatorname{asinh}{\\left(\\frac{T a_{0}}{2 c} \\right)}}{a_{0}}$"
      ],
      "text/plain": [
       "Eq(tau, 2*c*asinh(T*a_0/(2*c))/a_0)"
      ]
     },
     "metadata": {},
     "output_type": "display_data"
    }
   ],
   "source": [
    "gamma=1/sp.sqrt(1-(dx_dt/c)**2)\n",
    "T,tau=sp.symbols(\"T tau\",real=True)\n",
    "proper_time=sp.Eq(tau,sp.integrate(1/gamma,(t,-T/2,T/2)))\n",
    "display(proper_time)\n",
    "\n"
   ]
  },
  {
   "cell_type": "markdown",
   "metadata": {},
   "source": [
    "### Plotting the proper time"
   ]
  },
  {
   "cell_type": "code",
   "execution_count": 145,
   "metadata": {},
   "outputs": [
    {
     "data": {
      "text/plain": [
       "[<matplotlib.lines.Line2D at 0x7f84518572d0>]"
      ]
     },
     "execution_count": 145,
     "metadata": {},
     "output_type": "execute_result"
    },
    {
     "data": {
      "image/png": "[encoded data removed]",
      "text/plain": [
       "<Figure size 640x480 with 1 Axes>"
      ]
     },
     "metadata": {},
     "output_type": "display_data"
    }
   ],
   "source": [
    "import numpy as np\n",
    "import matplotlib.pyplot as plt\n",
    "\n",
    "proper_time_func=sp.lambdify((a_0),proper_time.rhs.subs({c:1,T:1}))\n",
    "accelerations=np.linspace(0.001,1000,10000)\n",
    "plt.grid()\n",
    "plt.yscale(\"log\")\n",
    "plt.ylabel(r\"Proper time $\\tau$\")\n",
    "plt.xlabel(r\"$a_0/c$\")\n",
    "plt.plot(accelerations,proper_time_func(accelerations))"
   ]
  }
 ],
 "metadata": {
  "kernelspec": {
   "display_name": ".venv",
   "language": "python",
   "name": "python3"
  },
  "language_info": {
   "codemirror_mode": {
    "name": "ipython",
    "version": 3
   },
   "file_extension": ".py",
   "mimetype": "text/x-python",
   "name": "python",
   "nbconvert_exporter": "python",
   "pygments_lexer": "ipython3",
   "version": "3.11.10"
  }
 },
 "nbformat": 4,
 "nbformat_minor": 2
}
